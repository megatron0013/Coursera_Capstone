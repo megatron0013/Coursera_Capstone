{
 "cells": [
  {
   "cell_type": "markdown",
   "metadata": {},
   "source": [
    "# Data Use Overview\n",
    "\n",
    "For this project I intend to use data gathered from foursquare about halal and kosher restaurants and type of cuisine within downtown area for Toronto and New York City neighborhoods through use of API. I will use a supervised learning algorithms classify data points into categorical type of cuisine using best classification model.\n",
    "\n",
    "## Data Collection\n",
    "\n",
    "### Data Collection Steps:\n",
    "\n",
    "The following step will be used to collect the data:\n",
    "\n",
    "1. I will need gather geo-locational information about that Downtown Toronto borough and the neighborhoods in that borough. We specifically and technically mean the latitude and longitude numbers of that borough. With this in mind, I will pull data from all the boroughs within the Downtown area by using the the Postal Codes that fall into that borough (Downtown). \n",
    "\n",
    "2. I will need data about different venues in different neighborhoods of that specific borough. In order to gain that information, I will use \"Foursquare\" locational information. By locational information for each venue, I pull basic and advanced information about that venue. This means that I obtain the venue's precise latitude and longitude and also its distance from the center of the neighborhood, the category of that venue, whether this venue serves halal or kosher food its category, and the type of food served at this venue.\n",
    "\n",
    "3. This process will be repeated for New York City information.\n",
    "\n",
    "### Data Sources:\n",
    "\n",
    "Following data sources will be needed to extract/generate the required information:\n",
    "\n",
    "1. Corresponding Postal Codes from Wikipedia for Toronto and New York City\n",
    "2. Centers of candidate areas will collected from Wikipedia or will be generated algorithmically and approximate addresses of centers of those areas will be obtained using Google Maps API reverse geocoding\n",
    "3. Number of restaurants for each cuisine type in neighborhood i.e approximate radius of 25 km will be obtained using Foursquare API\n",
    "\n",
    "## Data Analysis\n",
    "\n",
    "### General Plan:\n",
    "\n",
    "I plan to use variables pertaining to venue type, location, food type, etc., obtained from foursquare in relation to downtown Toronto and New York City to see what categories of Halah and Kosher food are available within the neighborhood. I will then compare results from Toronto with the New York City results. \n",
    "\n",
    "### Data Isses and Bias:\n",
    "\n",
    "Based on definition of our problem, there is a possbilityt that the following factors will influence my results:\n",
    "1. Number of existing Halal and Kosher restaurants in the neighborhood\n",
    "2. The limit number of types Halal and Kosher\n",
    "3. Personal bias or data bias\n",
    "4. Incomplete data or lack of category information \n",
    "\n",
    "### Data Visualization:\n",
    "\n",
    "This information will be displayed in maps, tables and other visualizations."
   ]
  },
  {
   "cell_type": "code",
   "execution_count": null,
   "metadata": {},
   "outputs": [],
   "source": []
  }
 ],
 "metadata": {
  "kernelspec": {
   "display_name": "Python 3",
   "language": "python",
   "name": "python3"
  },
  "language_info": {
   "codemirror_mode": {
    "name": "ipython",
    "version": 3
   },
   "file_extension": ".py",
   "mimetype": "text/x-python",
   "name": "python",
   "nbconvert_exporter": "python",
   "pygments_lexer": "ipython3",
   "version": "3.5.6"
  }
 },
 "nbformat": 4,
 "nbformat_minor": 2
}
