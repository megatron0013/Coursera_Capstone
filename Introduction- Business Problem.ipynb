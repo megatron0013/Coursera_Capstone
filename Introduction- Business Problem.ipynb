{
 "cells": [
  {
   "cell_type": "markdown",
   "metadata": {},
   "source": [
    "# Capstone Project - Comparing Restaurants within Toronto & New York City\n",
    "\n",
    "\n",
    "## Project Description\n",
    "\n",
    "### Problem\n",
    "\n",
    "Problem: “How many Halal or Kosher Restaurants can be found within the Downtown Toronto area, and how do the results compare to offering within New York City?” The analysis conducted within this project is to compare the downtown neighborhoods of Toronto and New York City and determine how similar or dissimilar they are.\n",
    "\n",
    "#### Cities of Interest - Toronto & New York City\n",
    "\n",
    "### Project Background\n",
    "\n",
    "Problem Background: To ensure the project for the capstone is completed, we will limit our work to specify Halal and Kosher.  For individual that have a protein intolerance or allergy to Pork, Halal and Koshers Restaurants can ensure the patron is save, becuase Halal and Kosher restaurant will not bring pork on the premise. With this in mind, the project will be focused on answering the following question:\n",
    "\n",
    "“How many Halal or Kosher Restaurants can be found within the Downtown Toronto area?” \"How do the results from Toronto Compare to New York City's offering?\"\n",
    "\n",
    "When someone has a protein intolerance or allergy to Pork it can every hard to find a Restaurant that accommodate their needs; especially when cross contamination of food prep areas is a concern. There is no cure for food allergies. Strict avoidance of food allergens—and early recognition and management of allergic reactions to food—are important measures to prevent serious health consequences.  \n",
    "\n",
    "In order to help individuals with pork allergies to find save dinning options while visiting Toronto and New York City, this capstone project will develop an algorithm that employs a methodology/approach that is tailored towards discovering Halal and Kosher Restaurants.  \n",
    "\n",
    "The results from the Downtown Toronto will be compared to the results from New York City. This comparison will then expose the venue types that offer Halal or Kosher food. Lastly the analysis will compare the neighborhoods of Toronto and New York City and determine how similar or dissimilar they are.\n"
   ]
  },
  {
   "cell_type": "markdown",
   "metadata": {},
   "source": [
    "# Capstone Requirements\n",
    "\n",
    "\n",
    "In Module 3, we explored New York City and the city of Toronto and segmented and clustered their neighborhoods. Both cities are very diverse and are the financial capitals of their respective countries. One interesting idea would be to compare the neighborhoods of the two cities and determine how similar or dissimilar they are. Is New York City more like Toronto or Paris or some other multicultural city? I will leave it to you to refine this idea.\n",
    "\n",
    "In a city of your choice, if someone is looking to open a restaurant, where would you recommend that they open it? Similarly, if a contractor is trying to start their own business, where would you recommend that they setup their office?\n",
    "\n",
    "For this week, you will required to submit the following:\n",
    "\n",
    "1.\tA description of the problem and a discussion of the background. (15 marks)\n",
    "2.\tA description of the data and how it will be used to solve the problem. (15 marks)\n",
    "\n",
    "For the second week, the final deliverables of the project will be:\n",
    "\n",
    "1.\tA link to your Notebook on your Github repository, showing your code. (15 marks)\n",
    "2.\tA full report consisting of all of the following components (15 marks):\n",
    "\n",
    "•\tIntroduction where you discuss the business problem and who would be interested in this project.\n",
    "\n",
    "•\tData where you describe the data that will be used to solve the problem and the source of the data.\n",
    "\n",
    "•\tMethodology section which represents the main component of the report where you discuss and describe any exploratory data analysis that you did, any inferential statistical testing that you performed, and what machine learnings were used and why.\n",
    "\n",
    "•\tResults section where you discuss the results.\n",
    "\n",
    "•\tDiscussion section where you discuss any observations you noted and any recommendations you can make based on the results.\n",
    "\n",
    "•\tConclusion section where you conclude the report."
   ]
  },
  {
   "cell_type": "code",
   "execution_count": null,
   "metadata": {},
   "outputs": [],
   "source": []
  }
 ],
 "metadata": {
  "kernelspec": {
   "display_name": "Python 3",
   "language": "python",
   "name": "python3"
  },
  "language_info": {
   "codemirror_mode": {
    "name": "ipython",
    "version": 3
   },
   "file_extension": ".py",
   "mimetype": "text/x-python",
   "name": "python",
   "nbconvert_exporter": "python",
   "pygments_lexer": "ipython3",
   "version": "3.5.6"
  }
 },
 "nbformat": 4,
 "nbformat_minor": 2
}
